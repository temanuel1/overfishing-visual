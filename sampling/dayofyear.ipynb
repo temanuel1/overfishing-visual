{
 "cells": [
  {
   "cell_type": "code",
   "execution_count": 18,
   "metadata": {},
   "outputs": [
    {
     "name": "stdout",
     "output_type": "stream",
     "text": [
      "Requirement already satisfied: datetime in c:\\users\\tyler\\appdata\\local\\packages\\pythonsoftwarefoundation.python.3.9_qbz5n2kfra8p0\\localcache\\local-packages\\python39\\site-packages (4.7)\n",
      "Requirement already satisfied: zope.interface in c:\\users\\tyler\\appdata\\local\\packages\\pythonsoftwarefoundation.python.3.9_qbz5n2kfra8p0\\localcache\\local-packages\\python39\\site-packages (from datetime) (5.4.0)\n",
      "Requirement already satisfied: pytz in c:\\users\\tyler\\appdata\\local\\packages\\pythonsoftwarefoundation.python.3.9_qbz5n2kfra8p0\\localcache\\local-packages\\python39\\site-packages (from datetime) (2022.2.1)\n",
      "Requirement already satisfied: setuptools in c:\\program files\\windowsapps\\pythonsoftwarefoundation.python.3.9_3.9.3568.0_x64__qbz5n2kfra8p0\\lib\\site-packages (from zope.interface->datetime) (58.1.0)\n",
      "Note: you may need to restart the kernel to use updated packages.\n"
     ]
    },
    {
     "name": "stderr",
     "output_type": "stream",
     "text": [
      "\n",
      "[notice] A new release of pip available: 22.2.2 -> 22.3\n",
      "[notice] To update, run: C:\\Users\\tyler\\AppData\\Local\\Microsoft\\WindowsApps\\PythonSoftwareFoundation.Python.3.9_qbz5n2kfra8p0\\python.exe -m pip install --upgrade pip\n"
     ]
    }
   ],
   "source": [
    "pip install datetime"
   ]
  },
  {
   "cell_type": "code",
   "execution_count": 19,
   "metadata": {},
   "outputs": [],
   "source": [
    "from datetime import datetime\n",
    "import pandas as pd\n",
    "import numpy as np\n",
    "import math"
   ]
  },
  {
   "cell_type": "code",
   "execution_count": 20,
   "metadata": {},
   "outputs": [],
   "source": [
    "## Asia_df = pd.read_csv(\"C:/Users/tyler/APL Projects/Data Combiner/Locational Data/fishy files take on Asia.csv\")\n",
    "## Europe_df = pd.read_csv(\"C:/Users/tyler/APL Projects/Data Combiner/Locational Data/fishy files trip to Europe.csv\")\n",
    "Japan_df = pd.read_csv(r\"C:\\Users\\tyler\\APL Projects\\Data Combiner\\locational-data\\fishy files jump to Japan.csv\")\n"
   ]
  },
  {
   "cell_type": "code",
   "execution_count": 21,
   "metadata": {},
   "outputs": [],
   "source": [
    "## Asia_dates = Asia_df['date']\n",
    "## Europe_dates = Europe_df['date']\n",
    "Japan_dates = Japan_df['date']"
   ]
  },
  {
   "cell_type": "code",
   "execution_count": 22,
   "metadata": {},
   "outputs": [],
   "source": [
    "## Asia_converted = pd.to_datetime(Asia_dates, errors='coerce')\n",
    "## Europe_converted = pd.to_datetime(Europe_dates, errors='coerce')\n",
    "Japan_converted = pd.to_datetime(Japan_dates, errors='coerce')"
   ]
  },
  {
   "cell_type": "code",
   "execution_count": 23,
   "metadata": {},
   "outputs": [],
   "source": [
    "for i in range(len(Japan_converted)):\n",
    "    Japan_converted[i] = Japan_converted[i].day_of_year"
   ]
  },
  {
   "cell_type": "code",
   "execution_count": 87,
   "metadata": {},
   "outputs": [],
   "source": [
    "for i in range(len(Asia_converted)):\n",
    "    Asia_converted[i] = Asia_converted[i].day_of_year"
   ]
  },
  {
   "cell_type": "code",
   "execution_count": null,
   "metadata": {},
   "outputs": [],
   "source": [
    "for i in range(len(Europe_converted)):\n",
    "    Europe_converted[i] = Europe_converted[i].day_of_year"
   ]
  },
  {
   "cell_type": "code",
   "execution_count": 24,
   "metadata": {},
   "outputs": [],
   "source": [
    "## Asia_converted = Asia_converted.to_frame()\n",
    "## Europe_converted = Europe_converted.to_frame()\n",
    "Japan_converted = Japan_converted.to_frame()"
   ]
  },
  {
   "cell_type": "code",
   "execution_count": 25,
   "metadata": {},
   "outputs": [],
   "source": [
    "## Asia_converted_dates = Asia_converted['date'].to_frame()\n",
    "## Europe_converted_dates = Europe_converted['date'].to_frame()\n",
    "Japan_converted_dates = Japan_converted['date'].to_frame()"
   ]
  },
  {
   "cell_type": "code",
   "execution_count": 26,
   "metadata": {},
   "outputs": [],
   "source": [
    "## Asia_df_final = Asia_df.assign(date=Asia_converted_dates)\n",
    "## Europe_df_final = Europe_df.assign(date=Europe_converted_dates)\n",
    "Japan_df_final = Japan_df.assign(date=Japan_converted_dates)"
   ]
  },
  {
   "cell_type": "code",
   "execution_count": 27,
   "metadata": {},
   "outputs": [],
   "source": [
    "days_in_year = 366"
   ]
  },
  {
   "cell_type": "code",
   "execution_count": 28,
   "metadata": {},
   "outputs": [],
   "source": [
    "Japan_days = 2* np.pi * Japan_df_final.date/days_in_year\n",
    "Japan_days = np.array(Japan_days).astype(np.float64)"
   ]
  },
  {
   "cell_type": "code",
   "execution_count": 93,
   "metadata": {},
   "outputs": [
    {
     "data": {
      "text/plain": [
       "array([ 1.71663298e-02,  1.71663298e-02,  1.71663298e-02, ...,\n",
       "       -2.44929360e-16, -2.44929360e-16, -2.44929360e-16])"
      ]
     },
     "execution_count": 93,
     "metadata": {},
     "output_type": "execute_result"
    }
   ],
   "source": [
    "Asia_days = 2* np.pi * Asia_df_final.date/days_in_year\n",
    "Asia_days = np.array(Asia_days).astype(np.float64)\n",
    "\n",
    "Europe_days = 2* np.pi * Europe_df_final.date/days_in_year\n",
    "Europe_days = np.array(Europe_days).astype(np.float64)"
   ]
  },
  {
   "cell_type": "code",
   "execution_count": 95,
   "metadata": {},
   "outputs": [],
   "source": [
    "Asia_df_trig_final = Asia_df_final.assign(sin = np.sin(Asia_days), cos = np.cos(Asia_days))\n",
    "Europe_df_trig_final = Europe_df_final.assign(sin = np.sin(Europe_days), cos = np.cos(Europe_days))"
   ]
  },
  {
   "cell_type": "code",
   "execution_count": 29,
   "metadata": {},
   "outputs": [],
   "source": [
    "Japan_df_trig_final = Japan_df_final.assign(sin = np.sin(Japan_days), cos = np.cos(Japan_days))\n"
   ]
  },
  {
   "cell_type": "code",
   "execution_count": 96,
   "metadata": {},
   "outputs": [],
   "source": [
    "Asia_df_trig_final.to_csv(\"Asia fishys get triggy.csv\")\n",
    "Europe_df_trig_final.to_csv(\"European Trout try trig.csv\")"
   ]
  },
  {
   "cell_type": "code",
   "execution_count": 30,
   "metadata": {},
   "outputs": [],
   "source": [
    "Japan_df_trig_final.to_csv(\"Japan kois get triggy.csv\")"
   ]
  }
 ],
 "metadata": {
  "kernelspec": {
   "display_name": "Python 3.9.13 64-bit (microsoft store)",
   "language": "python",
   "name": "python3"
  },
  "language_info": {
   "codemirror_mode": {
    "name": "ipython",
    "version": 3
   },
   "file_extension": ".py",
   "mimetype": "text/x-python",
   "name": "python",
   "nbconvert_exporter": "python",
   "pygments_lexer": "ipython3",
   "version": "3.9.13 (tags/v3.9.13:6de2ca5, May 17 2022, 16:36:42) [MSC v.1929 64 bit (AMD64)]"
  },
  "orig_nbformat": 4,
  "vscode": {
   "interpreter": {
    "hash": "603d86ad8b85ddfa9e3f5afa803c807791a55dd11dd19be35e20f82ff807e88b"
   }
  }
 },
 "nbformat": 4,
 "nbformat_minor": 2
}
